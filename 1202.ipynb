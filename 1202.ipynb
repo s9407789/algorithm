{
  "nbformat": 4,
  "nbformat_minor": 0,
  "metadata": {
    "colab": {
      "name": "1202.ipynb",
      "provenance": [],
      "authorship_tag": "ABX9TyP1cXk9LReeHN9rSA5Pd5wW",
      "include_colab_link": true
    },
    "kernelspec": {
      "name": "python3",
      "display_name": "Python 3"
    }
  },
  "cells": [
    {
      "cell_type": "markdown",
      "metadata": {
        "id": "view-in-github",
        "colab_type": "text"
      },
      "source": [
        "<a href=\"https://colab.research.google.com/github/s9407789/algorithm/blob/main/1202.ipynb\" target=\"_parent\"><img src=\"https://colab.research.google.com/assets/colab-badge.svg\" alt=\"Open In Colab\"/></a>"
      ]
    },
    {
      "cell_type": "code",
      "metadata": {
        "colab": {
          "base_uri": "https://localhost:8080/"
        },
        "id": "if1OBij_I6sL",
        "outputId": "39722ecb-5fcb-44f9-b5a1-29d1593d3073"
      },
      "source": [
        "# t = 面額\n",
        "t = [25, 20, 5, 1]\n",
        "\n",
        "import pandas as pd\n",
        "\n",
        "def change(t):\n",
        "  n = pd.to_numeric(input('請輸入多少錢:'))\n",
        "  m = [0 for _ in range(len(t))]\n",
        "  for i, money in enumerate(t):\n",
        "    m[i] = n // money\n",
        "    n = n % money\n",
        "    print(m,n)\n",
        "\n",
        "change(t)"
      ],
      "execution_count": null,
      "outputs": [
        {
          "output_type": "stream",
          "text": [
            "請輸入多少錢:41\n",
            "[1, 0, 0, 0] 16\n",
            "[1, 0, 0, 0] 16\n",
            "[1, 0, 3, 0] 1\n",
            "[1, 0, 3, 1] 0\n"
          ],
          "name": "stdout"
        }
      ]
    },
    {
      "cell_type": "code",
      "metadata": {
        "colab": {
          "base_uri": "https://localhost:8080/"
        },
        "id": "bfFCln-cSZEY",
        "outputId": "53e340d5-acb2-4e63-d497-8983c43e067d"
      },
      "source": [
        "# t = 面額\r\n",
        "t = [25, 20, 5, 1]\r\n",
        "\r\n",
        "import pandas as pd\r\n",
        "\r\n",
        "def Change(n):\r\n",
        "  ChangeCoin = [0]\r\n",
        "  if n == 0:\r\n",
        "    return ChangeCoin[n]\r\n",
        "  for i in range(1, n+1):\r\n",
        "    minNum = 9999\r\n",
        "    for j in range(0, len(t)):\r\n",
        "      if i - t[j] >= 0:\r\n",
        "        minNum = min(minNum, ChangeCoin[i - t[j]])\r\n",
        "    minNum += 1\r\n",
        "    ChangeCoin.append(minNum)\r\n",
        "  # print(ChangeCoin)\r\n",
        "\r\n",
        "  amount = n\r\n",
        "  coinArray = []\r\n",
        "  for i in t:\r\n",
        "    coinArray.append(0)\r\n",
        "  while amount != 0:\r\n",
        "    for j in range(0, len(t)):\r\n",
        "      if amount - t[j] >= 0:\r\n",
        "        if ChangeCoin[amount - t[j]] + 1 == ChangeCoin[amount]:\r\n",
        "          coinArray[j] += 1\r\n",
        "          amount -= t[j]\r\n",
        "  print(coinArray)\r\n",
        "  return ChangeCoin[n]\r\n",
        "\r\n",
        "def ChangeMain():\r\n",
        "  n = pd.to_numeric(input('請輸入多少錢:'))\r\n",
        "  print(Change(n))\r\n",
        "\r\n",
        "ChangeMain()"
      ],
      "execution_count": 19,
      "outputs": [
        {
          "output_type": "stream",
          "text": [
            "請輸入多少錢:41\n",
            "[0, 2, 0, 1]\n",
            "3\n"
          ],
          "name": "stdout"
        }
      ]
    },
    {
      "cell_type": "code",
      "metadata": {
        "colab": {
          "base_uri": "https://localhost:8080/"
        },
        "id": "V613zjgqTnCU",
        "outputId": "23420cb6-97fb-41c6-c45d-e1dabaa6be17"
      },
      "source": [
        "# name = 商品名稱\n",
        "name = ['PS5', 'iPAD pro 12', 'Macbook pro 15', 'HomePod', 'Macmini']\n",
        "\n",
        "# weight = 商品重量\n",
        "weight = [5, 1, 4, 3, 2]\n",
        "\n",
        "# value = 商品價值\n",
        "value = [17000, 35000, 60000, 9000, 20000]\n",
        "\n",
        "\n",
        "def package(name, weight, value):\n",
        "  maxweight = 10\n",
        "  m = ['Undecided' for _ in range(len(name))]\n",
        "  for i in range(len(name)):\n",
        "    index = value.index(max(value))        #找到商品中最大價值的 index\n",
        "    if weight[index] <= maxweight:        #如果該商品的重量不超過背包最多可裝的重量10kg,則將該商品放入\n",
        "      m[i] = name[index]\n",
        "      maxweight -= weight[index]        #並累加目前背包已裝商品的總重量\n",
        "    else:                      #否則該商品不裝入背包\n",
        "      m[i] = 'cannot take'\n",
        "    del name[index], weight[index], value[index] #刪除 已裝入背包/不裝入背包 的商品\n",
        "    print(m)\n",
        "\n",
        "package(name, weight, value)"
      ],
      "execution_count": null,
      "outputs": [
        {
          "output_type": "stream",
          "text": [
            "['Macbook pro 15', 'Undecided', 'Undecided', 'Undecided', 'Undecided']\n",
            "['Macbook pro 15', 'iPAD pro 12', 'Undecided', 'Undecided', 'Undecided']\n",
            "['Macbook pro 15', 'iPAD pro 12', 'Macmini', 'Undecided', 'Undecided']\n",
            "['Macbook pro 15', 'iPAD pro 12', 'Macmini', 'cannot take', 'Undecided']\n",
            "['Macbook pro 15', 'iPAD pro 12', 'Macmini', 'cannot take', 'HomePod']\n"
          ],
          "name": "stdout"
        }
      ]
    },
    {
      "cell_type": "code",
      "metadata": {
        "colab": {
          "base_uri": "https://localhost:8080/"
        },
        "id": "oi4SEbKsSUyx",
        "outputId": "7fd72f54-9cb6-445b-9b66-6ef7239f2cb1"
      },
      "source": [
        "# name = 商品名稱\r\n",
        "name = ['PS5', 'iPAD pro 12', 'Macbook pro 15', 'HomePod', 'Macmini']\r\n",
        "\r\n",
        "# weight = 商品重量\r\n",
        "weight = [5, 1, 4, 3, 2]\r\n",
        "\r\n",
        "# value = 商品價值\r\n",
        "value = [17000, 35000, 60000, 9000, 20000]\r\n",
        "\r\n",
        "def Debug(array):\r\n",
        "  for i in array:\r\n",
        "    print(i)\r\n",
        "\r\n",
        "def Knapsack(capacity):\r\n",
        "  # 初始化\r\n",
        "  backpack = []\r\n",
        "  for i in range(0, len(weight) + 1):\r\n",
        "    backpack.append([])\r\n",
        "    for j in range(0, capacity + 1):\r\n",
        "      backpack[i].append(0)\r\n",
        "  # Debug(backpack)\r\n",
        "\r\n",
        "  #DP\r\n",
        "  for i in range(1, len(weight) + 1):\r\n",
        "    k = i - 1\r\n",
        "    for j in range(1, capacity + 1):\r\n",
        "      if j - weight[k] >= 0:\r\n",
        "        backpack[i][j] = max(backpack[i - 1][j], value[k] + backpack[i - 1][j - weight[k]])\r\n",
        "      else:\r\n",
        "        backpack[i][j] = backpack[i - 1][j]\r\n",
        "  # Debug(backpack)\r\n",
        "\r\n",
        "  # 答案\r\n",
        "  itemArray = []\r\n",
        "  for i in name:\r\n",
        "    itemArray.append(0)\r\n",
        "  i = len(weight)\r\n",
        "  j = capacity\r\n",
        "  while backpack[i][j] != 0:\r\n",
        "    k = i - 1\r\n",
        "    if backpack[i - 1][j - weight[k]] + value[k] == backpack[i][j]:\r\n",
        "      itemArray[k] = 1\r\n",
        "      j -= weight[k]\r\n",
        "      i -= 1\r\n",
        "    else:\r\n",
        "      i -= 1\r\n",
        "  # print(itemArray)\r\n",
        "  for i in range(0, len(itemArray)):\r\n",
        "    if itemArray[i] == 1:\r\n",
        "      print(name[i])\r\n",
        "  return backpack[len(weight)][capacity]\r\n",
        "\r\n",
        "def KnapsackMain():\r\n",
        "  capacity = pd.to_numeric(input('請輸入背包的容量:'))\r\n",
        "  print(Knapsack(capacity))\r\n",
        "\r\n",
        "KnapsackMain()"
      ],
      "execution_count": 31,
      "outputs": [
        {
          "output_type": "stream",
          "text": [
            "請輸入背包的容量:10\n",
            "iPAD pro 12\n",
            "Macbook pro 15\n",
            "HomePod\n",
            "Macmini\n",
            "124000\n"
          ],
          "name": "stdout"
        }
      ]
    }
  ]
}