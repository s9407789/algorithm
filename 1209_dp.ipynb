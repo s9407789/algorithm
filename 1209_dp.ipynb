{
  "nbformat": 4,
  "nbformat_minor": 0,
  "metadata": {
    "colab": {
      "name": "1209_dp.ipynb",
      "provenance": [],
      "authorship_tag": "ABX9TyNuP/HyNIyoz+DFL2dwE79x",
      "include_colab_link": true
    },
    "kernelspec": {
      "name": "python3",
      "display_name": "Python 3"
    }
  },
  "cells": [
    {
      "cell_type": "markdown",
      "metadata": {
        "id": "view-in-github",
        "colab_type": "text"
      },
      "source": [
        "<a href=\"https://colab.research.google.com/github/s9407789/algorithm/blob/main/1209_dp.ipynb\" target=\"_parent\"><img src=\"https://colab.research.google.com/assets/colab-badge.svg\" alt=\"Open In Colab\"/></a>"
      ]
    },
    {
      "cell_type": "code",
      "metadata": {
        "id": "RILUBsBVyQxs"
      },
      "source": [
        "import pandas as pd\r\n",
        "\r\n",
        "price = [0, 1, 5, 8, 9, 10, 17, 17, 20, 24, 30]\r\n",
        "\r\n",
        "def RodCutting(length):\r\n",
        "  # 初始化\r\n",
        "  if length == 0:\r\n",
        "    return 0\r\n",
        "  lengthValue = [0]\r\n",
        "  # lengthCutting = [[]]\r\n",
        "  # 計算\r\n",
        "  for n in range(1, length+1):\r\n",
        "    if n < len(price):\r\n",
        "      pmax = price[n]\r\n",
        "    else:\r\n",
        "      pmax = 0\r\n",
        "    # lengthCutting.append([])\r\n",
        "    for i in range(1, n):\r\n",
        "      pmax = max(lengthValue[i] + lengthValue[n - i], pmax)\r\n",
        "    lengthValue.append(pmax)\r\n",
        "  \r\n",
        "  #答案\r\n",
        "  print(lengthValue)\r\n",
        "  return lengthValue[length]\r\n",
        "\r\n",
        "def RodCuttingMain():\r\n",
        "  length = pd.to_numeric(input('請輸入鐵棒的長度:'))\r\n",
        "  # print(length)\r\n",
        "  print(RodCutting(length))\r\n",
        "\r\n",
        "RodCuttingMain()"
      ],
      "execution_count": null,
      "outputs": []
    }
  ]
}